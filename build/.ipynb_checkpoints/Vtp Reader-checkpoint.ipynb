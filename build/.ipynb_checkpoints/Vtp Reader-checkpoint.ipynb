{
 "cells": [
  {
   "cell_type": "code",
   "execution_count": 1,
   "metadata": {},
   "outputs": [],
   "source": [
    "import sys\n",
    "import vtk\n",
    "\n",
    "colors = vtk.vtkNamedColors()\n",
    "\n",
    "filename = 'MASK (copy).vtp'\n",
    "\n",
    "    # Read all the data from the file\n",
    "reader = vtk.vtkXMLPolyDataReader()\n",
    "reader.SetFileName(filename)\n",
    "reader.Update()\n",
    "\n",
    "    # Visualize\n",
    "mapper = vtk.vtkPolyDataMapper()\n",
    "mapper.SetInputConnection(reader.GetOutputPort())\n",
    "\n",
    "actor = vtk.vtkActor()\n",
    "actor.SetMapper(mapper)\n",
    "actor.GetProperty().SetColor(colors.GetColor3d('Yellow'))\n",
    "\n",
    "renderer = vtk.vtkRenderer()\n",
    "renderWindow = vtk.vtkRenderWindow()\n",
    "renderWindow.AddRenderer(renderer)\n",
    "renderWindowInteractor = vtk.vtkRenderWindowInteractor()\n",
    "renderWindowInteractor.SetRenderWindow(renderWindow)\n",
    "\n",
    "renderer.AddActor(actor)\n",
    "renderer.SetBackground(colors.GetColor3d('Gray'))\n",
    "renderer.GetActiveCamera().Pitch(90)\n",
    "renderer.GetActiveCamera().SetViewUp(0, 0, 1)\n",
    "renderer.ResetCamera()\n",
    "\n",
    "renderWindow.SetSize(600, 600)\n",
    "renderWindow.Render()\n",
    "renderWindow.SetWindowName('ReadPolyData')\n",
    "renderWindowInteractor.Start()\n"
   ]
  },
  {
   "cell_type": "code",
   "execution_count": 2,
   "metadata": {},
   "outputs": [
    {
     "name": "stderr",
     "output_type": "stream",
     "text": [
      "\u001b[0m\u001b[31m2023-09-10 20:27:27.623 (   5.258s) [        18A04740]       vtkXMLReader.cxx:306    ERR| vtkXMLUnstructuredGridReader (0x3314a60): Error opening file FinalGeometry.vtu\u001b[0m\n",
      "\u001b[0m\u001b[31m2023-09-10 20:27:27.623 (   5.259s) [        18A04740]       vtkExecutive.cxx:740    ERR| vtkCompositeDataPipeline (0x340b180): Algorithm vtkXMLUnstructuredGridReader (0x3314a60) returned failure for request: vtkInformation (0x34a8cc0)\n",
      "  Debug: Off\n",
      "  Modified Time: 13397\n",
      "  Reference Count: 1\n",
      "  Registered Events: (none)\n",
      "  Request: REQUEST_INFORMATION\n",
      "  ALGORITHM_AFTER_FORWARD: 1\n",
      "  FORWARD_DIRECTION: 0\n",
      "\n",
      "\u001b[0m\n"
     ]
    }
   ],
   "source": [
    "import sys\n",
    "import vtk\n",
    "\n",
    "colors = vtk.vtkNamedColors()\n",
    "\n",
    "filename = 'FinalGeometry.vtu'\n",
    "\n",
    "    # Read all the data from the file\n",
    "reader = vtk.vtkXMLUnstructuredGridReader() #VTU\n",
    "reader.SetFileName(filename)\n",
    "reader.Update()\n",
    "output = reader.GetOutput()\n",
    "\n",
    "    # Visualize\n",
    "mapper = vtk.vtkDataSetMapper()\n",
    "mapper.SetInputData(output)\n",
    "\n",
    "actor = vtk.vtkActor()\n",
    "actor.SetMapper(mapper)\n",
    "actor.GetProperty().SetColor(colors.GetColor3d('Yellow'))\n",
    "\n",
    "renderer = vtk.vtkRenderer()\n",
    "renderWindow = vtk.vtkRenderWindow()\n",
    "renderWindow.AddRenderer(renderer)\n",
    "renderWindowInteractor = vtk.vtkRenderWindowInteractor()\n",
    "renderWindowInteractor.SetRenderWindow(renderWindow)\n",
    "\n",
    "renderer.AddActor(actor)\n",
    "renderer.SetBackground(colors.GetColor3d('DarkOliveGreen'))\n",
    "renderer.GetActiveCamera().Pitch(90)\n",
    "renderer.GetActiveCamera().SetViewUp(0, 0, 1)\n",
    "renderer.ResetCamera()\n",
    "\n",
    "renderWindow.SetSize(600, 600)\n",
    "renderWindow.Render()\n",
    "renderWindow.SetWindowName('ReadPolyData')\n",
    "renderWindowInteractor.Start()"
   ]
  },
  {
   "cell_type": "code",
   "execution_count": null,
   "metadata": {},
   "outputs": [],
   "source": []
  }
 ],
 "metadata": {
  "kernelspec": {
   "display_name": "Python 3 (ipykernel)",
   "language": "python",
   "name": "python3"
  },
  "language_info": {
   "codemirror_mode": {
    "name": "ipython",
    "version": 3
   },
   "file_extension": ".py",
   "mimetype": "text/x-python",
   "name": "python",
   "nbconvert_exporter": "python",
   "pygments_lexer": "ipython3",
   "version": "3.8.10"
  }
 },
 "nbformat": 4,
 "nbformat_minor": 4
}
