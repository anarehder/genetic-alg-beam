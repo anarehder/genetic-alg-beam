{
 "cells": [
  {
   "cell_type": "code",
   "execution_count": 6,
   "metadata": {},
   "outputs": [
    {
     "data": {
      "text/plain": [
       "1"
      ]
     },
     "execution_count": 6,
     "metadata": {},
     "output_type": "execute_result"
    }
   ],
   "source": [
    "import sys\n",
    "import vtk\n",
    "\n",
    "filename = 'DISP_TESTE.vtu'\n",
    "    \n",
    "reader = vtk.vtkXMLUnstructuredGridReader() #VTU\n",
    "reader.SetFileName(filename)\n",
    "\n",
    "surface_filter = vtk.vtkDataSetSurfaceFilter()\n",
    "surface_filter.SetInputConnection(reader.GetOutputPort())\n",
    "\n",
    "triangle_filter = vtk.vtkTriangleFilter()\n",
    "triangle_filter.SetInputConnection(surface_filter.GetOutputPort())\n",
    "\n",
    "writer = vtk.vtkSTLWriter()\n",
    "writer.SetFileName('DISP_TESTE.stl')\n",
    "writer.SetInputConnection(triangle_filter.GetOutputPort())\n",
    "writer.Write()     \n"
   ]
  }
 ],
 "metadata": {
  "kernelspec": {
   "display_name": "Python 3 (ipykernel)",
   "language": "python",
   "name": "python3"
  },
  "language_info": {
   "codemirror_mode": {
    "name": "ipython",
    "version": 3
   },
   "file_extension": ".py",
   "mimetype": "text/x-python",
   "name": "python",
   "nbconvert_exporter": "python",
   "pygments_lexer": "ipython3",
   "version": "3.8.10"
  }
 },
 "nbformat": 4,
 "nbformat_minor": 5
}
